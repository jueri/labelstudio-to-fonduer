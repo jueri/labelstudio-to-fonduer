{
 "cells": [
  {
   "cell_type": "markdown",
   "metadata": {},
   "source": [
    "# Prepare Fonduer"
   ]
  },
  {
   "cell_type": "code",
   "execution_count": 17,
   "metadata": {},
   "outputs": [
    {
     "name": "stdout",
     "output_type": "stream",
     "text": [
      "The autoreload extension is already loaded. To reload it, use:\n",
      "  %reload_ext autoreload\n"
     ]
    }
   ],
   "source": [
    "%load_ext autoreload\n",
    "%autoreload 2\n",
    "%matplotlib inline\n",
    "import os\n",
    "import sys\n",
    "import logging\n",
    "import sqlalchemy"
   ]
  },
  {
   "cell_type": "code",
   "execution_count": 6,
   "metadata": {},
   "outputs": [],
   "source": [
    "PARALLEL = 6\n",
    "ATTRIBUTE = \"jobs_companie\"\n",
    "conn_string = 'postgresql://user@127.0.0.1:8001/'"
   ]
  },
  {
   "cell_type": "code",
   "execution_count": 7,
   "metadata": {},
   "outputs": [],
   "source": [
    "engine = sqlalchemy.create_engine(conn_string)\n",
    "conn = engine.connect()"
   ]
  },
  {
   "cell_type": "code",
   "execution_count": null,
   "metadata": {},
   "outputs": [],
   "source": [
    "# conn.execute(\"commit\")\n",
    "# conn.execute(\"create database \"+ATTRIBUTE)\n",
    "# conn.close()"
   ]
  },
  {
   "cell_type": "code",
   "execution_count": 8,
   "metadata": {},
   "outputs": [
    {
     "name": "stderr",
     "output_type": "stream",
     "text": [
      "[2022-04-19 17:01:07,887][INFO] fonduer.meta:49 - Setting logging directory to: logs/2022-04-19_17-01-07\n",
      "[2022-04-19 17:01:07,888][INFO] fonduer.meta:134 - Connecting user:user to 127.0.0.1:8001/jobs_companie\n",
      "[2022-04-19 17:01:08,406][INFO] fonduer.meta:162 - Initializing the storage schema\n"
     ]
    }
   ],
   "source": [
    "from fonduer import Meta, init_logging\n",
    "\n",
    "# Configure logging for Fonduer\n",
    "init_logging(log_dir=\"logs\")\n",
    "\n",
    "session = Meta.init(conn_string+ATTRIBUTE).Session()"
   ]
  },
  {
   "cell_type": "markdown",
   "metadata": {},
   "source": [
    "### Parse Docs"
   ]
  },
  {
   "cell_type": "code",
   "execution_count": 9,
   "metadata": {},
   "outputs": [],
   "source": [
    "from fonduer.parser.preprocessors import HTMLDocPreprocessor\n",
    "from fonduer.parser import Parser\n",
    "\n",
    "# docs_path = 'data/html/'\n",
    "# # pdf_path = 'data/pdf/'\n",
    "\n",
    "# max_docs = 100\n",
    "# doc_preprocessor = HTMLDocPreprocessor(docs_path, max_docs=max_docs)"
   ]
  },
  {
   "cell_type": "code",
   "execution_count": null,
   "metadata": {},
   "outputs": [],
   "source": [
    "# corpus_parser = Parser(session, structural=True, lingual=True)#, visual=True)#, pdf_path=pdf_path)\n",
    "# corpus_parser.apply(doc_preprocessor, parallelism=PARALLEL)"
   ]
  },
  {
   "cell_type": "code",
   "execution_count": 11,
   "metadata": {},
   "outputs": [
    {
     "name": "stdout",
     "output_type": "stream",
     "text": [
      "Documents: 5\n",
      "Sentences: 578\n"
     ]
    }
   ],
   "source": [
    "from fonduer.parser.models import Document, Sentence\n",
    "\n",
    "print(f\"Documents: {session.query(Document).count()}\")\n",
    "print(f\"Sentences: {session.query(Sentence).count()}\")\n",
    "\n",
    "docs = session.query(Document).order_by(Document.name).all()"
   ]
  },
  {
   "cell_type": "markdown",
   "metadata": {},
   "source": [
    "### Create Enteties"
   ]
  },
  {
   "cell_type": "code",
   "execution_count": 12,
   "metadata": {},
   "outputs": [],
   "source": [
    "from fonduer.candidates.models import mention_subclass\n",
    "\n",
    "Job = mention_subclass(\"Job\")\n",
    "Company = mention_subclass(\"Company\")"
   ]
  },
  {
   "cell_type": "code",
   "execution_count": 69,
   "metadata": {},
   "outputs": [],
   "source": [
    "from fonduer.candidates import MentionNgrams\n",
    "\n",
    "job_ngrams = MentionNgrams(n_max=3, n_min=1)\n",
    "company_ngrams = MentionNgrams(n_max=3, n_min=1)"
   ]
  },
  {
   "cell_type": "code",
   "execution_count": 95,
   "metadata": {},
   "outputs": [],
   "source": [
    "from fonduer.candidates.matchers import LambdaFunctionMatcher\n",
    "\n",
    "companies = {export[spot][\"text\"] for spot in export if export[spot][\"label\"] == \"Company\"}\n",
    "jobs = {export[spot][\"text\"] for spot in export if export[spot][\"label\"] == \"Job\"}\n",
    "\n",
    "def is_job(mention):\n",
    "    if mention.get_span() in jobs:\n",
    "        return True\n",
    "    else:\n",
    "        False\n",
    "\n",
    "def is_company(mention):\n",
    "    if mention.get_span() in companies:\n",
    "        return True\n",
    "    else:\n",
    "        False\n",
    "    \n",
    "job_matcher = LambdaFunctionMatcher(func=is_job)\n",
    "company_matcher = LambdaFunctionMatcher(func=is_company)"
   ]
  },
  {
   "cell_type": "code",
   "execution_count": 96,
   "metadata": {},
   "outputs": [],
   "source": [
    "from fonduer.candidates import MentionExtractor\n",
    "\n",
    "mention_extractor = MentionExtractor(\n",
    "    session,\n",
    "    [Job, Company],\n",
    "    [job_ngrams, company_ngrams],\n",
    "    [job_matcher, company_matcher],\n",
    ")"
   ]
  },
  {
   "cell_type": "code",
   "execution_count": 97,
   "metadata": {},
   "outputs": [
    {
     "name": "stderr",
     "output_type": "stream",
     "text": [
      "[2022-04-19 18:15:22,567][INFO] fonduer.candidates.mentions:467 - Clearing table: job\n",
      "[2022-04-19 18:15:22,584][INFO] fonduer.candidates.mentions:467 - Clearing table: company\n",
      "[2022-04-19 18:15:22,588][INFO] fonduer.candidates.mentions:475 - Cascading to clear table: job_company\n",
      "[2022-04-19 18:15:22,594][INFO] fonduer.candidates.mentions:475 - Cascading to clear table: presidentname_placeofbirth\n",
      "[2022-04-19 18:15:22,598][INFO] fonduer.utils.udf:67 - Running UDF...\n"
     ]
    },
    {
     "data": {
      "application/json": {
       "ascii": false,
       "bar_format": null,
       "colour": null,
       "elapsed": 0.011182069778442383,
       "initial": 0,
       "n": 0,
       "ncols": null,
       "nrows": null,
       "postfix": null,
       "prefix": "",
       "rate": null,
       "total": 5,
       "unit": "it",
       "unit_divisor": 1000,
       "unit_scale": false
      },
      "application/vnd.jupyter.widget-view+json": {
       "model_id": "3c552f4e71f848ca9d29320b8d704dd7",
       "version_major": 2,
       "version_minor": 0
      },
      "text/plain": [
       "  0%|          | 0/5 [00:00<?, ?it/s]"
      ]
     },
     "metadata": {},
     "output_type": "display_data"
    },
    {
     "name": "stdout",
     "output_type": "stream",
     "text": [
      "Total Mentions: 34 (14 jobs, 20 companies)\n"
     ]
    }
   ],
   "source": [
    "from fonduer.candidates.models import Mention\n",
    "\n",
    "mention_extractor.apply(docs)\n",
    "num_jobs = session.query(Job).count()\n",
    "num_companies = session.query(Company).count()\n",
    "print(\n",
    "    f\"Total Mentions: {session.query(Mention).count()} ({num_jobs} jobs, {num_companies} companies)\"\n",
    ")"
   ]
  },
  {
   "cell_type": "code",
   "execution_count": 98,
   "metadata": {},
   "outputs": [],
   "source": [
    "from fonduer.candidates.models import candidate_subclass\n",
    "\n",
    "JobCompany = candidate_subclass(\n",
    "    \"JobCompany\", [Job, Company]\n",
    ")"
   ]
  },
  {
   "cell_type": "code",
   "execution_count": 99,
   "metadata": {},
   "outputs": [
    {
     "name": "stderr",
     "output_type": "stream",
     "text": [
      "[2022-04-19 18:15:29,214][INFO] fonduer.candidates.candidates:137 - Clearing table job_company (split 0)\n",
      "[2022-04-19 18:15:29,217][INFO] fonduer.utils.udf:67 - Running UDF...\n"
     ]
    },
    {
     "data": {
      "application/json": {
       "ascii": false,
       "bar_format": null,
       "colour": null,
       "elapsed": 0.011209487915039062,
       "initial": 0,
       "n": 0,
       "ncols": null,
       "nrows": null,
       "postfix": null,
       "prefix": "",
       "rate": null,
       "total": 5,
       "unit": "it",
       "unit_divisor": 1000,
       "unit_scale": false
      },
      "application/vnd.jupyter.widget-view+json": {
       "model_id": "8cda8f9f8d4f4576aed204bd747b4658",
       "version_major": 2,
       "version_minor": 0
      },
      "text/plain": [
       "  0%|          | 0/5 [00:00<?, ?it/s]"
      ]
     },
     "metadata": {},
     "output_type": "display_data"
    }
   ],
   "source": [
    "from fonduer.candidates import CandidateExtractor\n",
    "\n",
    "candidate_extractor = CandidateExtractor(session, [JobCompany])\n",
    "candidate_extractor.apply(docs)"
   ]
  },
  {
   "cell_type": "code",
   "execution_count": 106,
   "metadata": {},
   "outputs": [
    {
     "name": "stderr",
     "output_type": "stream",
     "text": [
      "/home/jueri/.local/share/virtualenvs/labelstudio-to-fonduer-E7xm7bv1/lib/python3.8/site-packages/fonduer/candidates/candidates.py:201: SAWarning: Coercing Subquery object into a select() for use in IN(); please pass a select() construct explicitly\n",
      "  .filter(candidate_class.id.in_(sub_query))\n"
     ]
    }
   ],
   "source": [
    "test_cand = candidate_extractor.get_candidates()"
   ]
  },
  {
   "cell_type": "markdown",
   "metadata": {},
   "source": [
    "### Load Gold data"
   ]
  },
  {
   "cell_type": "code",
   "execution_count": 88,
   "metadata": {},
   "outputs": [],
   "source": [
    "from bs4 import BeautifulSoup  # type: ignore\n",
    "from lxml import etree  # type: ignore\n",
    "import json\n",
    "import os\n",
    "\n",
    "def get_filename(label_studio_str: str):\n",
    "    split = label_studio_str.split(\"-\")  # strip id\n",
    "    full = \"\".join(split[1:])\n",
    "    split = full.split(\".\")\n",
    "    result = \"\".join(split[:-1])\n",
    "    return result\n",
    "\n",
    "def get_html_tree_from_string(html_string):\n",
    "    soup = BeautifulSoup(html_string)\n",
    "    dom = etree.HTML(str(soup))\n",
    "    root = dom.getroottree()\n",
    "    return root\n",
    "\n",
    "def get_absolute_xpath(rel_xpath, dom):\n",
    "    res = dom.xpath(\"/\"+rel_xpath)[0]\n",
    "    return dom.getpath(res.getparent())\n",
    "    \n",
    "def load_ls_export(export_path, session):\n",
    "    with open(export_path, \"r\") as fin:\n",
    "        export = json.load(fin)\n",
    "    spots = {}\n",
    "    relations = []\n",
    "    for annotated_doc in export:\n",
    "        filename = get_filename(annotated_doc[\"file_upload\"])\n",
    "        fonduer_doc_id = str(session.query(Document.id).filter(Document.name==filename).first()[0])\n",
    "        tree = get_html_tree_from_string(annotated_doc[\"data\"][\"text\"])  # recreate html tree for doc\n",
    "\n",
    "        for annotations in annotated_doc[\"annotations\"]:\n",
    "            if not annotations[\"result\"]:\n",
    "                continue\n",
    "            for entety in annotations[\"result\"]:\n",
    "                if entety.get(\"value\"):\n",
    "                    xpath_rel = entety[\"value\"][\"start\"]\n",
    "                    xpath_abs = get_absolute_xpath(xpath_rel, tree)\n",
    "                    fd_sentence_id = session.query(Sentence.id).filter(Sentence.document_id==fonduer_doc_id, Sentence.xpath==xpath_abs).first()\n",
    "                    label = entety[\"value\"][\"labels\"][0]\n",
    "                    ls_ID = entety[\"id\"]\n",
    "                    id_label[ls_ID]=label\n",
    "                    \n",
    "                    spots[ls_ID] = {\n",
    "                        # \"xpath_rel\": xpath_rel, \n",
    "                        \"xpath_abs\": xpath_abs,\n",
    "                        \"label\": label, \n",
    "                        \"text\": entety[\"value\"][\"text\"].replace(\"\\\\n\", \"\"),\n",
    "                        \"ls_ID\": ls_ID,\n",
    "                        \"fd_sentence_id\": str(fd_sentence_id[0]),\n",
    "                        \"filename\": filename,\n",
    "                        \"fonduer_doc_id\": fonduer_doc_id,\n",
    "                        }\n",
    "                else:\n",
    "                    relations.append((entety[\"from_id\"], entety[\"to_id\"], entety[\"labels\"]))\n",
    "            # docs.append(doc)\n",
    "    return spots, relations, id_label\n",
    "\n",
    "def get_gold_table(relations, export):\n",
    "    tabulated = []\n",
    "    for relation in relations:\n",
    "        entety_1 = export.get(relation[0])\n",
    "        entety_2 = export.get(relation[1])\n",
    "        assert entety_1[\"fonduer_doc_id\"] == entety_2[\"fonduer_doc_id\"]\n",
    "        tabulated.append((\n",
    "            entety_1[\"fonduer_doc_id\"], \n",
    "            entety_1[\"text\"], \n",
    "            entety_1[\"fd_sentence_id\"], \n",
    "            entety_2[\"fonduer_doc_id\"], \n",
    "            entety_2[\"text\"], \n",
    "            entety_2[\"fd_sentence_id\"], \n",
    "            ))\n",
    "    return tabulated"
   ]
  },
  {
   "cell_type": "code",
   "execution_count": 138,
   "metadata": {},
   "outputs": [],
   "source": [
    "export_path = os.path.join(\"data\", \"export\", \"export_1.json\")\n",
    "\n",
    "export, relations, id_label = load_ls_export(export_path, session)\n",
    "gold_table = get_gold_table(relations, export)"
   ]
  },
  {
   "cell_type": "markdown",
   "metadata": {},
   "source": [
    "### Create gold label function"
   ]
  },
  {
   "cell_type": "code",
   "execution_count": 163,
   "metadata": {},
   "outputs": [],
   "source": [
    "def gold(cand):\n",
    "    canddidate_tuple=(\n",
    "        str(cand[1].document_id),\n",
    "        str(cand[1].context.get_span()),\n",
    "        str(cand[1].context.sentence.id),        \n",
    "        str(cand[0].document_id),\n",
    "        str(cand[0].context.get_span()),\n",
    "        str(cand[0].context.sentence.id),\n",
    "    )\n",
    "    if canddidate_tuple in gold_table:\n",
    "        return 1\n",
    "    else:\n",
    "        return 0\n"
   ]
  },
  {
   "cell_type": "markdown",
   "metadata": {},
   "source": [
    "### Label docs"
   ]
  },
  {
   "cell_type": "code",
   "execution_count": 164,
   "metadata": {},
   "outputs": [],
   "source": [
    "from fonduer.supervision.models import GoldLabel\n",
    "from fonduer.supervision import Labeler"
   ]
  },
  {
   "cell_type": "code",
   "execution_count": 165,
   "metadata": {},
   "outputs": [],
   "source": [
    "labeler = Labeler(session, [JobCompany])"
   ]
  },
  {
   "cell_type": "code",
   "execution_count": 166,
   "metadata": {},
   "outputs": [
    {
     "name": "stderr",
     "output_type": "stream",
     "text": [
      "[2022-04-19 18:29:51,218][INFO] fonduer.supervision.labeler:330 - Clearing Labels (split ALL)\n",
      "/home/jueri/.local/share/virtualenvs/labelstudio-to-fonduer-E7xm7bv1/lib/python3.8/site-packages/fonduer/supervision/labeler.py:340: SAWarning: Coercing Subquery object into a select() for use in IN(); please pass a select() construct explicitly\n",
      "  query = self.session.query(table).filter(table.candidate_id.in_(sub_query))\n",
      "[2022-04-19 18:29:51,225][INFO] fonduer.utils.udf:67 - Running UDF...\n"
     ]
    },
    {
     "data": {
      "application/json": {
       "ascii": false,
       "bar_format": null,
       "colour": null,
       "elapsed": 0.011975765228271484,
       "initial": 0,
       "n": 0,
       "ncols": null,
       "nrows": null,
       "postfix": null,
       "prefix": "",
       "rate": null,
       "total": 5,
       "unit": "it",
       "unit_divisor": 1000,
       "unit_scale": false
      },
      "application/vnd.jupyter.widget-view+json": {
       "model_id": "e9786c6a65214aa3bc5e41c4ac494a56",
       "version_major": 2,
       "version_minor": 0
      },
      "text/plain": [
       "  0%|          | 0/5 [00:00<?, ?it/s]"
      ]
     },
     "metadata": {},
     "output_type": "display_data"
    },
    {
     "name": "stdout",
     "output_type": "stream",
     "text": [
      "CPU times: user 16.3 ms, sys: 39.9 ms, total: 56.3 ms\n",
      "Wall time: 196 ms\n"
     ]
    }
   ],
   "source": [
    "%time labeler.apply(docs=docs, lfs=[[gold]], table=GoldLabel, train=False, parallelism=PARALLEL)"
   ]
  },
  {
   "cell_type": "code",
   "execution_count": 174,
   "metadata": {},
   "outputs": [
    {
     "name": "stderr",
     "output_type": "stream",
     "text": [
      "/home/jueri/.local/share/virtualenvs/labelstudio-to-fonduer-E7xm7bv1/lib/python3.8/site-packages/fonduer/candidates/candidates.py:201: SAWarning: Coercing Subquery object into a select() for use in IN(); please pass a select() construct explicitly\n",
      "  .filter(candidate_class.id.in_(sub_query))\n"
     ]
    }
   ],
   "source": [
    "all_gold = labeler.get_gold_labels(candidate_extractor.get_candidates(), annotator=\"gold\")"
   ]
  },
  {
   "cell_type": "code",
   "execution_count": 175,
   "metadata": {},
   "outputs": [
    {
     "data": {
      "text/plain": [
       "5"
      ]
     },
     "execution_count": 175,
     "metadata": {},
     "output_type": "execute_result"
    }
   ],
   "source": [
    "all_gold[0].sum()"
   ]
  }
 ],
 "metadata": {
  "interpreter": {
   "hash": "7fda46782ee3ee2686cdea5372a2bf51e3d60f2509bba10681b838f36f7f0d4a"
  },
  "kernelspec": {
   "display_name": "Python 3.8.10 ('labelstudio-to-fonduer-E7xm7bv1')",
   "language": "python",
   "name": "python3"
  },
  "language_info": {
   "codemirror_mode": {
    "name": "ipython",
    "version": 3
   },
   "file_extension": ".py",
   "mimetype": "text/x-python",
   "name": "python",
   "nbconvert_exporter": "python",
   "pygments_lexer": "ipython3",
   "version": "3.8.10"
  },
  "orig_nbformat": 4
 },
 "nbformat": 4,
 "nbformat_minor": 2
}
